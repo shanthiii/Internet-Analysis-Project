{
  "nbformat": 4,
  "nbformat_minor": 0,
  "metadata": {
    "colab": {
      "name": "Internet_Analysis.ipynb",
      "provenance": [],
      "collapsed_sections": [
        "AmstNlH9Ymbo",
        "uZ13sQqoaX8E",
        "TmM3WKznbv0Q"
      ],
      "authorship_tag": "ABX9TyNqZ/wOxni3FX4PcYzpEpwE",
      "include_colab_link": true
    },
    "kernelspec": {
      "name": "python3",
      "display_name": "Python 3"
    },
    "language_info": {
      "name": "python"
    }
  },
  "cells": [
    {
      "cell_type": "markdown",
      "metadata": {
        "id": "view-in-github",
        "colab_type": "text"
      },
      "source": [
        "<a href=\"https://colab.research.google.com/github/shanthiii/Internet-Analysis-Project/blob/master/Internet_Analysis.ipynb\" target=\"_parent\"><img src=\"https://colab.research.google.com/assets/colab-badge.svg\" alt=\"Open In Colab\"/></a>"
      ]
    },
    {
      "cell_type": "code",
      "metadata": {
        "colab": {
          "base_uri": "https://localhost:8080/",
          "height": 35
        },
        "id": "f0a3bwVutKLF",
        "outputId": "c872cffa-deae-4c31-f82c-7a6de40061b6"
      },
      "source": [
        "\"\"\"Internet Analysis\"\"\""
      ],
      "execution_count": null,
      "outputs": [
        {
          "output_type": "execute_result",
          "data": {
            "application/vnd.google.colaboratory.intrinsic+json": {
              "type": "string"
            },
            "text/plain": [
              "'Internet Analysis'"
            ]
          },
          "metadata": {},
          "execution_count": 1
        }
      ]
    },
    {
      "cell_type": "code",
      "metadata": {
        "id": "qv_prpV6JRK0"
      },
      "source": [
        "# pylint: disable=C0114, C0103, wrong-import-position, line-too-long, import-error"
      ],
      "execution_count": null,
      "outputs": []
    },
    {
      "cell_type": "code",
      "metadata": {
        "colab": {
          "base_uri": "https://localhost:8080/"
        },
        "id": "MKi4LZFkSXnC",
        "outputId": "35234052-b777-436b-f4b5-5638aee0de52"
      },
      "source": [
        "!pip install pandas"
      ],
      "execution_count": null,
      "outputs": [
        {
          "output_type": "stream",
          "text": [
            "Requirement already satisfied: pandas in /usr/local/lib/python3.7/dist-packages (1.1.5)\n",
            "Requirement already satisfied: numpy>=1.15.4 in /usr/local/lib/python3.7/dist-packages (from pandas) (1.19.5)\n",
            "Requirement already satisfied: pytz>=2017.2 in /usr/local/lib/python3.7/dist-packages (from pandas) (2018.9)\n",
            "Requirement already satisfied: python-dateutil>=2.7.3 in /usr/local/lib/python3.7/dist-packages (from pandas) (2.8.2)\n",
            "Requirement already satisfied: six>=1.5 in /usr/local/lib/python3.7/dist-packages (from python-dateutil>=2.7.3->pandas) (1.15.0)\n"
          ],
          "name": "stdout"
        }
      ]
    },
    {
      "cell_type": "code",
      "metadata": {
        "colab": {
          "base_uri": "https://localhost:8080/"
        },
        "id": "c8KrAmy7SZtZ",
        "outputId": "0a6b8689-ca4b-41f3-eb62-255bb612aedf"
      },
      "source": [
        "!pip install matplotlib"
      ],
      "execution_count": null,
      "outputs": [
        {
          "output_type": "stream",
          "text": [
            "Requirement already satisfied: matplotlib in /usr/local/lib/python3.7/dist-packages (3.2.2)\n",
            "Requirement already satisfied: python-dateutil>=2.1 in /usr/local/lib/python3.7/dist-packages (from matplotlib) (2.8.2)\n",
            "Requirement already satisfied: numpy>=1.11 in /usr/local/lib/python3.7/dist-packages (from matplotlib) (1.19.5)\n",
            "Requirement already satisfied: kiwisolver>=1.0.1 in /usr/local/lib/python3.7/dist-packages (from matplotlib) (1.3.1)\n",
            "Requirement already satisfied: cycler>=0.10 in /usr/local/lib/python3.7/dist-packages (from matplotlib) (0.10.0)\n",
            "Requirement already satisfied: pyparsing!=2.0.4,!=2.1.2,!=2.1.6,>=2.0.1 in /usr/local/lib/python3.7/dist-packages (from matplotlib) (2.4.7)\n",
            "Requirement already satisfied: six in /usr/local/lib/python3.7/dist-packages (from cycler>=0.10->matplotlib) (1.15.0)\n"
          ],
          "name": "stdout"
        }
      ]
    },
    {
      "cell_type": "code",
      "metadata": {
        "id": "aKJONKgAZFa-"
      },
      "source": [
        "import urllib.request\n",
        "import pandas as pd\n",
        "from matplotlib import pyplot as plt\n",
        "import numpy as np"
      ],
      "execution_count": null,
      "outputs": []
    },
    {
      "cell_type": "code",
      "metadata": {
        "id": "UkimCgTfioqF"
      },
      "source": [
        "dictionary = [\"Mon\", \"Tue\", \"Wed\", \"Thu\", \"Fri\", \"Sat\", \"Sun\"]\n",
        "properties = [\"Latency\", \"Server\", \"Download\"]"
      ],
      "execution_count": null,
      "outputs": []
    },
    {
      "cell_type": "code",
      "metadata": {
        "id": "17YVtpbyr287"
      },
      "source": [
        "url = 'https://raw.githubusercontent.com/shanthiii/Internet-Analysis/main/statistics.log'\n",
        "file = urllib.request.urlopen(url)\n",
        "file.close()"
      ],
      "execution_count": null,
      "outputs": []
    },
    {
      "cell_type": "code",
      "metadata": {
        "id": "e-CuW4DDKxrT"
      },
      "source": [
        "COUNT = 0\n",
        "d = {}"
      ],
      "execution_count": null,
      "outputs": []
    },
    {
      "cell_type": "code",
      "metadata": {
        "id": "Z0WpX3LAK64y"
      },
      "source": [
        "for line in file:\n",
        "    lines = line.decode(\"utf-8\")\n",
        "    first_3_char = lines[0:3]\n",
        "    if first_3_char in dictionary:\n",
        "        COUNT += 1\n",
        "        d[COUNT] = {}\n",
        "        d[COUNT][\"day\"] = first_3_char\n",
        "        n = lines.strip().split(\":\")\n",
        "        m = len(n[0])\n",
        "        d[COUNT][\"hours\"] = n[0][m - 2:]\n",
        "        d[COUNT][\"minutes\"] = n[1]\n",
        "    else:\n",
        "        n = lines.strip().split(\":\")\n",
        "        attribute = n[0].strip()\n",
        "        value = n[1].strip()\n",
        "        if attribute == 'Server':\n",
        "            k = value.split(\"(\")\n",
        "            d[COUNT]['Server'] = k[0].strip()\n",
        "        elif attribute == 'Latency' and value != 'FAILED':\n",
        "            k = value.split(\"(\")\n",
        "            b = k[0].strip().split(\"ms\")\n",
        "            d[COUNT][attribute] = float(b[0].strip())\n",
        "            m = k[1].strip().split(\"ms\")\n",
        "            d[COUNT]['Jitter'] = float(m[0].strip())\n",
        "        elif (attribute in ('Upload', 'Download')) and value != 'FAILED':\n",
        "            k = value.split(\"Mbps\")\n",
        "            d[COUNT][attribute] = float(k[0].strip())\n",
        "        elif attribute == 'Packet Loss' and value != \"Not available.\":\n",
        "            k = value.split(\"%\")\n",
        "            d[COUNT][attribute] = float(k[0])"
      ],
      "execution_count": null,
      "outputs": []
    },
    {
      "cell_type": "code",
      "metadata": {
        "colab": {
          "base_uri": "https://localhost:8080/",
          "height": 417
        },
        "id": "Slq2nmJ0eoF-",
        "outputId": "8455207d-4bd8-4632-9457-7a0611d6b4e5"
      },
      "source": [
        "df = pd.DataFrame(d)\n",
        "df.transpose()"
      ],
      "execution_count": null,
      "outputs": [
        {
          "output_type": "execute_result",
          "data": {
            "text/html": [
              "<div>\n",
              "<style scoped>\n",
              "    .dataframe tbody tr th:only-of-type {\n",
              "        vertical-align: middle;\n",
              "    }\n",
              "\n",
              "    .dataframe tbody tr th {\n",
              "        vertical-align: top;\n",
              "    }\n",
              "\n",
              "    .dataframe thead th {\n",
              "        text-align: right;\n",
              "    }\n",
              "</style>\n",
              "<table border=\"1\" class=\"dataframe\">\n",
              "  <thead>\n",
              "    <tr style=\"text-align: right;\">\n",
              "      <th></th>\n",
              "      <th>day</th>\n",
              "      <th>hours</th>\n",
              "      <th>minutes</th>\n",
              "      <th>Server</th>\n",
              "      <th>Latency</th>\n",
              "      <th>Jitter</th>\n",
              "      <th>Download</th>\n",
              "      <th>Upload</th>\n",
              "      <th>Packet Loss</th>\n",
              "    </tr>\n",
              "  </thead>\n",
              "  <tbody>\n",
              "    <tr>\n",
              "      <th>1</th>\n",
              "      <td>Tue</td>\n",
              "      <td>12</td>\n",
              "      <td>38</td>\n",
              "      <td>Airtel Broadband - Chennai</td>\n",
              "      <td>39.54</td>\n",
              "      <td>21.98</td>\n",
              "      <td>6.63</td>\n",
              "      <td>1.41</td>\n",
              "      <td>NaN</td>\n",
              "    </tr>\n",
              "    <tr>\n",
              "      <th>2</th>\n",
              "      <td>Tue</td>\n",
              "      <td>12</td>\n",
              "      <td>40</td>\n",
              "      <td>Airgenie - Chennai</td>\n",
              "      <td>78.52</td>\n",
              "      <td>1.77</td>\n",
              "      <td>5.5</td>\n",
              "      <td>1.36</td>\n",
              "      <td>NaN</td>\n",
              "    </tr>\n",
              "    <tr>\n",
              "      <th>3</th>\n",
              "      <td>Tue</td>\n",
              "      <td>12</td>\n",
              "      <td>42</td>\n",
              "      <td>Airtel Broadband - Chennai</td>\n",
              "      <td>71.26</td>\n",
              "      <td>9.71</td>\n",
              "      <td>5.39</td>\n",
              "      <td>1.7</td>\n",
              "      <td>NaN</td>\n",
              "    </tr>\n",
              "    <tr>\n",
              "      <th>4</th>\n",
              "      <td>Tue</td>\n",
              "      <td>12</td>\n",
              "      <td>44</td>\n",
              "      <td>TataSky Broadband Private Limited - Chennai</td>\n",
              "      <td>41.48</td>\n",
              "      <td>20.52</td>\n",
              "      <td>3.24</td>\n",
              "      <td>1.05</td>\n",
              "      <td>0</td>\n",
              "    </tr>\n",
              "    <tr>\n",
              "      <th>5</th>\n",
              "      <td>Tue</td>\n",
              "      <td>12</td>\n",
              "      <td>46</td>\n",
              "      <td>NaN</td>\n",
              "      <td>NaN</td>\n",
              "      <td>NaN</td>\n",
              "      <td>NaN</td>\n",
              "      <td>NaN</td>\n",
              "      <td>NaN</td>\n",
              "    </tr>\n",
              "    <tr>\n",
              "      <th>...</th>\n",
              "      <td>...</td>\n",
              "      <td>...</td>\n",
              "      <td>...</td>\n",
              "      <td>...</td>\n",
              "      <td>...</td>\n",
              "      <td>...</td>\n",
              "      <td>...</td>\n",
              "      <td>...</td>\n",
              "      <td>...</td>\n",
              "    </tr>\n",
              "    <tr>\n",
              "      <th>4865</th>\n",
              "      <td>Tue</td>\n",
              "      <td>13</td>\n",
              "      <td>12</td>\n",
              "      <td>Shyam Spectra - Chennai</td>\n",
              "      <td>53.8</td>\n",
              "      <td>16.12</td>\n",
              "      <td>7.2</td>\n",
              "      <td>3.49</td>\n",
              "      <td>0</td>\n",
              "    </tr>\n",
              "    <tr>\n",
              "      <th>4866</th>\n",
              "      <td>Tue</td>\n",
              "      <td>13</td>\n",
              "      <td>14</td>\n",
              "      <td>Airtel Broadband - Chennai</td>\n",
              "      <td>55.54</td>\n",
              "      <td>6.93</td>\n",
              "      <td>5.91</td>\n",
              "      <td>2.9</td>\n",
              "      <td>NaN</td>\n",
              "    </tr>\n",
              "    <tr>\n",
              "      <th>4867</th>\n",
              "      <td>Tue</td>\n",
              "      <td>13</td>\n",
              "      <td>16</td>\n",
              "      <td>TATASky Broadband Pvt Ltd - Bangalore</td>\n",
              "      <td>73.1</td>\n",
              "      <td>44</td>\n",
              "      <td>1.46</td>\n",
              "      <td>2.64</td>\n",
              "      <td>0</td>\n",
              "    </tr>\n",
              "    <tr>\n",
              "      <th>4868</th>\n",
              "      <td>Tue</td>\n",
              "      <td>13</td>\n",
              "      <td>18</td>\n",
              "      <td>ACT Fibernet - Bangalore</td>\n",
              "      <td>72.41</td>\n",
              "      <td>44.61</td>\n",
              "      <td>5.77</td>\n",
              "      <td>2.66</td>\n",
              "      <td>0.4</td>\n",
              "    </tr>\n",
              "    <tr>\n",
              "      <th>4869</th>\n",
              "      <td>Tue</td>\n",
              "      <td>13</td>\n",
              "      <td>20</td>\n",
              "      <td>JIFFY CABLE AND DATACOM - Bangalore</td>\n",
              "      <td>81.2</td>\n",
              "      <td>110.5</td>\n",
              "      <td>5.43</td>\n",
              "      <td>2.89</td>\n",
              "      <td>0</td>\n",
              "    </tr>\n",
              "  </tbody>\n",
              "</table>\n",
              "<p>4869 rows × 9 columns</p>\n",
              "</div>"
            ],
            "text/plain": [
              "      day hours minutes  ... Download Upload Packet Loss\n",
              "1     Tue    12      38  ...     6.63   1.41         NaN\n",
              "2     Tue    12      40  ...      5.5   1.36         NaN\n",
              "3     Tue    12      42  ...     5.39    1.7         NaN\n",
              "4     Tue    12      44  ...     3.24   1.05           0\n",
              "5     Tue    12      46  ...      NaN    NaN         NaN\n",
              "...   ...   ...     ...  ...      ...    ...         ...\n",
              "4865  Tue    13      12  ...      7.2   3.49           0\n",
              "4866  Tue    13      14  ...     5.91    2.9         NaN\n",
              "4867  Tue    13      16  ...     1.46   2.64           0\n",
              "4868  Tue    13      18  ...     5.77   2.66         0.4\n",
              "4869  Tue    13      20  ...     5.43   2.89           0\n",
              "\n",
              "[4869 rows x 9 columns]"
            ]
          },
          "metadata": {},
          "execution_count": 10
        }
      ]
    },
    {
      "cell_type": "markdown",
      "metadata": {
        "id": "AmstNlH9Ymbo"
      },
      "source": [
        "# Analysis of Days"
      ]
    },
    {
      "cell_type": "code",
      "metadata": {
        "id": "6gZF-QaSYqzw",
        "colab": {
          "base_uri": "https://localhost:8080/",
          "height": 417
        },
        "outputId": "5ad8577a-0b16-41c8-d9a3-4db0f4e8c38f"
      },
      "source": [
        "# Creating a DataFrame\n",
        "df = pd.DataFrame(d)\n",
        "df.transpose()"
      ],
      "execution_count": null,
      "outputs": [
        {
          "output_type": "execute_result",
          "data": {
            "text/html": [
              "<div>\n",
              "<style scoped>\n",
              "    .dataframe tbody tr th:only-of-type {\n",
              "        vertical-align: middle;\n",
              "    }\n",
              "\n",
              "    .dataframe tbody tr th {\n",
              "        vertical-align: top;\n",
              "    }\n",
              "\n",
              "    .dataframe thead th {\n",
              "        text-align: right;\n",
              "    }\n",
              "</style>\n",
              "<table border=\"1\" class=\"dataframe\">\n",
              "  <thead>\n",
              "    <tr style=\"text-align: right;\">\n",
              "      <th></th>\n",
              "      <th>day</th>\n",
              "      <th>hours</th>\n",
              "      <th>minutes</th>\n",
              "      <th>Server</th>\n",
              "      <th>Latency</th>\n",
              "      <th>Jitter</th>\n",
              "      <th>Download</th>\n",
              "      <th>Upload</th>\n",
              "      <th>Packet Loss</th>\n",
              "    </tr>\n",
              "  </thead>\n",
              "  <tbody>\n",
              "    <tr>\n",
              "      <th>1</th>\n",
              "      <td>Tue</td>\n",
              "      <td>12</td>\n",
              "      <td>38</td>\n",
              "      <td>Airtel Broadband - Chennai</td>\n",
              "      <td>39.54</td>\n",
              "      <td>21.98</td>\n",
              "      <td>6.63</td>\n",
              "      <td>1.41</td>\n",
              "      <td>NaN</td>\n",
              "    </tr>\n",
              "    <tr>\n",
              "      <th>2</th>\n",
              "      <td>Tue</td>\n",
              "      <td>12</td>\n",
              "      <td>40</td>\n",
              "      <td>Airgenie - Chennai</td>\n",
              "      <td>78.52</td>\n",
              "      <td>1.77</td>\n",
              "      <td>5.5</td>\n",
              "      <td>1.36</td>\n",
              "      <td>NaN</td>\n",
              "    </tr>\n",
              "    <tr>\n",
              "      <th>3</th>\n",
              "      <td>Tue</td>\n",
              "      <td>12</td>\n",
              "      <td>42</td>\n",
              "      <td>Airtel Broadband - Chennai</td>\n",
              "      <td>71.26</td>\n",
              "      <td>9.71</td>\n",
              "      <td>5.39</td>\n",
              "      <td>1.7</td>\n",
              "      <td>NaN</td>\n",
              "    </tr>\n",
              "    <tr>\n",
              "      <th>4</th>\n",
              "      <td>Tue</td>\n",
              "      <td>12</td>\n",
              "      <td>44</td>\n",
              "      <td>TataSky Broadband Private Limited - Chennai</td>\n",
              "      <td>41.48</td>\n",
              "      <td>20.52</td>\n",
              "      <td>3.24</td>\n",
              "      <td>1.05</td>\n",
              "      <td>0</td>\n",
              "    </tr>\n",
              "    <tr>\n",
              "      <th>5</th>\n",
              "      <td>Tue</td>\n",
              "      <td>12</td>\n",
              "      <td>46</td>\n",
              "      <td>NaN</td>\n",
              "      <td>NaN</td>\n",
              "      <td>NaN</td>\n",
              "      <td>NaN</td>\n",
              "      <td>NaN</td>\n",
              "      <td>NaN</td>\n",
              "    </tr>\n",
              "    <tr>\n",
              "      <th>...</th>\n",
              "      <td>...</td>\n",
              "      <td>...</td>\n",
              "      <td>...</td>\n",
              "      <td>...</td>\n",
              "      <td>...</td>\n",
              "      <td>...</td>\n",
              "      <td>...</td>\n",
              "      <td>...</td>\n",
              "      <td>...</td>\n",
              "    </tr>\n",
              "    <tr>\n",
              "      <th>4865</th>\n",
              "      <td>Tue</td>\n",
              "      <td>13</td>\n",
              "      <td>12</td>\n",
              "      <td>Shyam Spectra - Chennai</td>\n",
              "      <td>53.8</td>\n",
              "      <td>16.12</td>\n",
              "      <td>7.2</td>\n",
              "      <td>3.49</td>\n",
              "      <td>0</td>\n",
              "    </tr>\n",
              "    <tr>\n",
              "      <th>4866</th>\n",
              "      <td>Tue</td>\n",
              "      <td>13</td>\n",
              "      <td>14</td>\n",
              "      <td>Airtel Broadband - Chennai</td>\n",
              "      <td>55.54</td>\n",
              "      <td>6.93</td>\n",
              "      <td>5.91</td>\n",
              "      <td>2.9</td>\n",
              "      <td>NaN</td>\n",
              "    </tr>\n",
              "    <tr>\n",
              "      <th>4867</th>\n",
              "      <td>Tue</td>\n",
              "      <td>13</td>\n",
              "      <td>16</td>\n",
              "      <td>TATASky Broadband Pvt Ltd - Bangalore</td>\n",
              "      <td>73.1</td>\n",
              "      <td>44</td>\n",
              "      <td>1.46</td>\n",
              "      <td>2.64</td>\n",
              "      <td>0</td>\n",
              "    </tr>\n",
              "    <tr>\n",
              "      <th>4868</th>\n",
              "      <td>Tue</td>\n",
              "      <td>13</td>\n",
              "      <td>18</td>\n",
              "      <td>ACT Fibernet - Bangalore</td>\n",
              "      <td>72.41</td>\n",
              "      <td>44.61</td>\n",
              "      <td>5.77</td>\n",
              "      <td>2.66</td>\n",
              "      <td>0.4</td>\n",
              "    </tr>\n",
              "    <tr>\n",
              "      <th>4869</th>\n",
              "      <td>Tue</td>\n",
              "      <td>13</td>\n",
              "      <td>20</td>\n",
              "      <td>JIFFY CABLE AND DATACOM - Bangalore</td>\n",
              "      <td>81.2</td>\n",
              "      <td>110.5</td>\n",
              "      <td>5.43</td>\n",
              "      <td>2.89</td>\n",
              "      <td>0</td>\n",
              "    </tr>\n",
              "  </tbody>\n",
              "</table>\n",
              "<p>4869 rows × 9 columns</p>\n",
              "</div>"
            ],
            "text/plain": [
              "      day hours minutes  ... Download Upload Packet Loss\n",
              "1     Tue    12      38  ...     6.63   1.41         NaN\n",
              "2     Tue    12      40  ...      5.5   1.36         NaN\n",
              "3     Tue    12      42  ...     5.39    1.7         NaN\n",
              "4     Tue    12      44  ...     3.24   1.05           0\n",
              "5     Tue    12      46  ...      NaN    NaN         NaN\n",
              "...   ...   ...     ...  ...      ...    ...         ...\n",
              "4865  Tue    13      12  ...      7.2   3.49           0\n",
              "4866  Tue    13      14  ...     5.91    2.9         NaN\n",
              "4867  Tue    13      16  ...     1.46   2.64           0\n",
              "4868  Tue    13      18  ...     5.77   2.66         0.4\n",
              "4869  Tue    13      20  ...     5.43   2.89           0\n",
              "\n",
              "[4869 rows x 9 columns]"
            ]
          },
          "metadata": {},
          "execution_count": 11
        }
      ]
    },
    {
      "cell_type": "code",
      "metadata": {
        "id": "utzGRfovZLsk",
        "colab": {
          "base_uri": "https://localhost:8080/"
        },
        "outputId": "c161aebb-187c-4748-8ae5-f20540769519"
      },
      "source": [
        "# Code to create lists for latency, jitter, download, upload and packet loss\n",
        "\n",
        "List_Latency = []\n",
        "List_Jitter = []\n",
        "List_Download = []\n",
        "List_Upload = []\n",
        "List_Packet_Loss = []\n",
        "U = len(dictionary)\n",
        "df = df.transpose()\n",
        "for i in range(U):\n",
        "    # print(dictionary[i])\n",
        "    mask = df['day'].values == dictionary[i]\n",
        "    # display(df[mask])\n",
        "    v = round((df[mask]['Latency'].mean()), 2)\n",
        "    w = round((df[mask]['Jitter'].mean()), 2)\n",
        "    x = round((df[mask]['Download'].mean()), 2)\n",
        "    y = round((df[mask]['Upload'].mean()), 2)\n",
        "    z = round((df[mask]['Packet Loss'].mean()), 2)\n",
        "    List_Latency.append(v)\n",
        "    List_Jitter.append(w)\n",
        "    List_Download.append(x)\n",
        "    List_Upload.append(y)\n",
        "    List_Packet_Loss.append(z)\n",
        "\n",
        "print(\"Latency List: \", List_Latency, \"\\nJitter List: \", List_Jitter)\n",
        "print(\"Download List: \", List_Download, \"\\nUpload List: \", List_Upload,\n",
        "      \"\\nPacket Loss List: \", List_Packet_Loss)"
      ],
      "execution_count": null,
      "outputs": [
        {
          "output_type": "stream",
          "text": [
            "Latency List:  [58.22, 59.42, 52.35, 49.67, 52.96, 55.75, 52.36] \n",
            "Jitter List:  [23.13, 19.88, 23.74, 21.43, 21.0, 20.79, 23.82]\n",
            "Download List:  [7.66, 7.0, 7.02, 8.14, 8.0, 6.53, 9.68] \n",
            "Upload List:  [2.52, 2.53, 2.38, 2.47, 2.76, 2.55, 2.76] \n",
            "Packet Loss List:  [0.61, 0.46, 0.55, 0.42, 0.47, 0.46, 0.52]\n"
          ],
          "name": "stdout"
        }
      ]
    },
    {
      "cell_type": "code",
      "metadata": {
        "id": "i7ejTCKpZl6A",
        "colab": {
          "base_uri": "https://localhost:8080/",
          "height": 315
        },
        "outputId": "44eb2177-1b93-423a-8622-02a9a930066a"
      },
      "source": [
        "# Using the above created list\n",
        "# and finding the best and worst average latency\n",
        "print(\"Average Latency: \", List_Latency)\n",
        "# minimum latency the better\n",
        "\n",
        "y = min(List_Latency)\n",
        "index = List_Latency.index(y)\n",
        "print(\"Best Average Latency: \", dictionary[index])\n",
        "\n",
        "# maximum latency the worst\n",
        "y = max(List_Latency)\n",
        "index = List_Latency.index(y)\n",
        "print(\"Worst Average Latency: \", dictionary[index])\n",
        "\n",
        "# plotting a graph to identify the minimum and maximum latency\n",
        "\n",
        "plt.bar(range(len(dictionary)), List_Latency, tick_label=dictionary)\n",
        "plt.show()"
      ],
      "execution_count": null,
      "outputs": [
        {
          "output_type": "stream",
          "text": [
            "Average Latency:  [58.22, 59.42, 52.35, 49.67, 52.96, 55.75, 52.36]\n",
            "Best Average Latency:  Thu\n",
            "Worst Average Latency:  Tue\n"
          ],
          "name": "stdout"
        },
        {
          "output_type": "display_data",
          "data": {
            "image/png": "[encoded data removed]",
            "text/plain": [
              "<Figure size 432x288 with 1 Axes>"
            ]
          },
          "metadata": {
            "needs_background": "light"
          }
        }
      ]
    },
    {
      "cell_type": "code",
      "metadata": {
        "id": "fgNB6p_aZ28i",
        "colab": {
          "base_uri": "https://localhost:8080/",
          "height": 334
        },
        "outputId": "cb17ff62-81dd-4dc3-cada-696991daf85d"
      },
      "source": [
        "# To find best and worst average jitter\n",
        "print(\"Average Jitter: \", List_Jitter)\n",
        "# minimum jitter the better\n",
        "\n",
        "y = min(List_Jitter)\n",
        "index = List_Jitter.index(y)\n",
        "print(\"Best Average Jitter: \", dictionary[index])\n",
        "\n",
        "# maximum jitter the worst\n",
        "y = max(List_Jitter)\n",
        "index = List_Jitter.index(y)\n",
        "print(\"Worst Average Jitter: \", dictionary[index])\n",
        "\n",
        "# plotting a graph to get the minimum jitter\n",
        "\n",
        "jitter = pd.DataFrame({'day': dictionary, 'Jitter': List_Jitter})\n",
        "Jitter = jitter.plot.bar(x='day', y='Jitter', rot=0)\n"
      ],
      "execution_count": null,
      "outputs": [
        {
          "output_type": "stream",
          "text": [
            "Average Jitter:  [23.13, 19.88, 23.74, 21.43, 21.0, 20.79, 23.82]\n",
            "Best Average Jitter:  Tue\n",
            "Worst Average Jitter:  Sun\n"
          ],
          "name": "stdout"
        },
        {
          "output_type": "display_data",
          "data": {
            "image/png": "[encoded data removed]",
            "text/plain": [
              "<Figure size 432x288 with 1 Axes>"
            ]
          },
          "metadata": {
            "needs_background": "light"
          }
        }
      ]
    },
    {
      "cell_type": "code",
      "metadata": {
        "id": "AW3s0-FBQZXR",
        "colab": {
          "base_uri": "https://localhost:8080/",
          "height": 330
        },
        "outputId": "54a9d944-e36f-4938-8b32-ed717f9b6a73"
      },
      "source": [
        "# To find best and worst average download\n",
        "print(\"Average Download: \", List_Download)\n",
        "# minimum download the better\n",
        "y = max(List_Download)\n",
        "index = List_Download.index(y)\n",
        "print(\"Best Average Download: \", dictionary[index])\n",
        "# maximum download the worst\n",
        "y = min(List_Download)\n",
        "index = List_Download.index(y)\n",
        "print(\"Worst Average Download: \", dictionary[index])\n",
        "# plotting a graph to get the minimum download\n",
        "download = pd.DataFrame({'day': dictionary, 'Download': List_Download})\n",
        "Download = download.plot.bar(x='day', y='Download', rot=0)"
      ],
      "execution_count": null,
      "outputs": [
        {
          "output_type": "stream",
          "text": [
            "Average Download:  [7.66, 7.0, 7.02, 8.14, 8.0, 6.53, 9.68]\n",
            "Best Average Download:  Sun\n",
            "Worst Average Download:  Sat\n"
          ],
          "name": "stdout"
        },
        {
          "output_type": "display_data",
          "data": {
            "image/png": "[encoded data removed]",
            "text/plain": [
              "<Figure size 432x288 with 1 Axes>"
            ]
          },
          "metadata": {
            "needs_background": "light"
          }
        }
      ]
    },
    {
      "cell_type": "code",
      "metadata": {
        "id": "B_SGOkm3Z_5-",
        "colab": {
          "base_uri": "https://localhost:8080/",
          "height": 330
        },
        "outputId": "fd684fe0-d139-41c7-f34d-fb8fc7d11107"
      },
      "source": [
        "# to find best and worst average upload speed\n",
        "print(\"Average Upload: \", List_Upload)\n",
        "# minimum upload the better\n",
        "y = max(List_Upload)\n",
        "index = List_Upload.index(y)\n",
        "print(\"Best Average Upload Speed: \", dictionary[index])\n",
        "# maximum upload the worst\n",
        "y = min(List_Upload)\n",
        "index = List_Upload.index(y)\n",
        "print(\"Worst Average Upload Speed: \", dictionary[index])\n",
        "# plotting a graph to get the minimum upload\n",
        "upload = pd.DataFrame({'day': dictionary, 'Upload': List_Upload})\n",
        "Upload = upload.plot.bar(x='day', y='Upload', rot=0)"
      ],
      "execution_count": null,
      "outputs": [
        {
          "output_type": "stream",
          "text": [
            "Average Upload:  [2.52, 2.53, 2.38, 2.47, 2.76, 2.55, 2.76]\n",
            "Best Average Upload Speed:  Fri\n",
            "Worst Average Upload Speed:  Wed\n"
          ],
          "name": "stdout"
        },
        {
          "output_type": "display_data",
          "data": {
            "image/png": "[encoded data removed]",
            "text/plain": [
              "<Figure size 432x288 with 1 Axes>"
            ]
          },
          "metadata": {
            "needs_background": "light"
          }
        }
      ]
    },
    {
      "cell_type": "code",
      "metadata": {
        "id": "4hcKAnTsaGJd",
        "colab": {
          "base_uri": "https://localhost:8080/",
          "height": 330
        },
        "outputId": "a6ec9572-16df-461b-c1a6-6cbb3b114214"
      },
      "source": [
        "# To find the best and worst average Packet Loss\n",
        "\n",
        "print(\"Average Packet Loss: \", List_Packet_Loss)\n",
        "# minimum jitter the better\n",
        "\n",
        "y = min(List_Packet_Loss)\n",
        "index = List_Packet_Loss.index(y)\n",
        "print(\"Best Average Packet Loss: \", dictionary[index])\n",
        "\n",
        "# maximum latency the worst\n",
        "y = max(List_Packet_Loss)\n",
        "index = List_Packet_Loss.index(y)\n",
        "print(\"Worst Average Packet Loss: \", dictionary[index])\n",
        "\n",
        "# plotting a graph to get the minimum latency\n",
        "\n",
        "packet_loss = pd.DataFrame({'day': dictionary, 'Packet Loss': List_Packet_Loss})\n",
        "Packet_Loss = packet_loss.plot.bar(x='day', y='Packet Loss', rot=0)"
      ],
      "execution_count": null,
      "outputs": [
        {
          "output_type": "stream",
          "text": [
            "Average Packet Loss:  [0.61, 0.46, 0.55, 0.42, 0.47, 0.46, 0.52]\n",
            "Best Average Packet Loss:  Thu\n",
            "Worst Average Packet Loss:  Mon\n"
          ],
          "name": "stdout"
        },
        {
          "output_type": "display_data",
          "data": {
            "image/png": "[encoded data removed]",
            "text/plain": [
              "<Figure size 432x288 with 1 Axes>"
            ]
          },
          "metadata": {
            "needs_background": "light"
          }
        }
      ]
    },
    {
      "cell_type": "code",
      "metadata": {
        "id": "yLWESi3wbAPx",
        "colab": {
          "base_uri": "https://localhost:8080/"
        },
        "outputId": "327ee520-af33-4172-9b26-4c959b2faa1b"
      },
      "source": [
        "# for network outage\n",
        "COUNT_TUE = 0\n",
        "COUNT_WED = 0\n",
        "COUNT_THU = 0\n",
        "COUNT_FRI = 0\n",
        "COUNT_SAT = 0\n",
        "COUNT_SUN = 0\n",
        "COUNT_MON = 0\n",
        "dic = {'Mon': 0, 'Tue': 0, 'Wed': 0, 'Thu': 0, 'Fri': 0, 'Sat': 0, 'Sun': 0}\n",
        "for i in range(1, len(d) + 1):\n",
        "    if(d[i]['day'] == 'Tue' and len(d[i]) == 3):\n",
        "        COUNT_TUE += 1\n",
        "    if(d[i]['day'] == 'Wed' and len(d[i]) == 3):\n",
        "        COUNT_WED += 1\n",
        "    if(d[i]['day'] == 'Thu' and len(d[i]) == 3):\n",
        "        COUNT_THU += 1\n",
        "    if(d[i]['day'] == 'Fri' and len(d[i]) == 3):\n",
        "        COUNT_FRI += 1\n",
        "    if(d[i]['day'] == 'Sat' and len(d[i]) == 3):\n",
        "        COUNT_SAT += 1\n",
        "    if(d[i]['day'] == 'Sun' and len(d[i]) == 3):\n",
        "        COUNT_SUN += 1\n",
        "    if(d[i]['day'] == 'Mon' and len(d[i]) == 3):\n",
        "        COUNT_MON += 1\n",
        "dic[\"Mon\"] = COUNT_MON\n",
        "dic['Tue'] = COUNT_TUE\n",
        "dic['Wed'] = COUNT_WED\n",
        "dic['Thu'] = COUNT_THU\n",
        "dic['Fri'] = COUNT_FRI\n",
        "dic['Sat'] = COUNT_SAT\n",
        "dic['Sun'] = COUNT_SUN\n",
        "\n",
        "print(dic)"
      ],
      "execution_count": null,
      "outputs": [
        {
          "output_type": "stream",
          "text": [
            "{'Mon': 44, 'Tue': 197, 'Wed': 154, 'Thu': 0, 'Fri': 109, 'Sat': 172, 'Sun': 4}\n"
          ],
          "name": "stdout"
        }
      ]
    },
    {
      "cell_type": "code",
      "metadata": {
        "id": "OaZy8KfVbOA6",
        "colab": {
          "base_uri": "https://localhost:8080/",
          "height": 313
        },
        "outputId": "59639d3a-859b-46d5-a1d4-d42f545be89d"
      },
      "source": [
        "# graphical representation of network outage\n",
        "names = list(dic.keys())\n",
        "values = list(dic.values())\n",
        "x = min(values)\n",
        "v = values.index(x)\n",
        "y = values.index(max(values))\n",
        "print(\"Day with most Network Outages in a Week: \", names[y])\n",
        "print(\"Day with least Network Outages in a Week: \", names[v])\n",
        "# plt.bar(range(len(dic)), values, tick_label=names)\n",
        "# plt.show()\n",
        "packet_loss = pd.DataFrame({'day': dictionary, 'Packet Loss': values})\n",
        "Packet_Loss = packet_loss.plot.bar(x='day', y='Packet Loss', rot=0)"
      ],
      "execution_count": null,
      "outputs": [
        {
          "output_type": "stream",
          "text": [
            "Day with most Network Outages in a Week:  Tue\n",
            "Day with least Network Outages in a Week:  Thu\n"
          ],
          "name": "stdout"
        },
        {
          "output_type": "display_data",
          "data": {
            "image/png": "[encoded data removed]",
            "text/plain": [
              "<Figure size 432x288 with 1 Axes>"
            ]
          },
          "metadata": {
            "needs_background": "light"
          }
        }
      ]
    },
    {
      "cell_type": "markdown",
      "metadata": {
        "id": "uZ13sQqoaX8E"
      },
      "source": [
        "#Analysis of hours"
      ]
    },
    {
      "cell_type": "code",
      "metadata": {
        "id": "JzaswxTGaaPv",
        "colab": {
          "base_uri": "https://localhost:8080/"
        },
        "outputId": "16e478de-9b60-406b-a992-1ca412eaef87"
      },
      "source": [
        "dic = [\"Latency\", \"Jitter\", \"Download\", \"Upload\", \"Packet Loss\"]\n",
        "hour = ['00', '01', '02', '03', '04', '05', '06', '07', '08', '09', '10', '11',\n",
        "        '12', '13', '14', '15', '16', '17', '18', '19', '20', '21', '22', '23']\n",
        "diction = {}\n",
        "Lat = []\n",
        "jit = []\n",
        "down = []\n",
        "up = []\n",
        "pack = []\n",
        "for i in hour:\n",
        "    mask = df['hours'] == i\n",
        "    for j in dic:\n",
        "        f = {}\n",
        "        f[i] = round(df[mask][j].mean(), 2)\n",
        "        if j == \"Latency\":\n",
        "            Lat.append(round(df[mask][j].mean(), 2))\n",
        "        if j == \"Jitter\":\n",
        "            jit.append(round(df[mask][j].mean(), 2))\n",
        "        if j == \"Download\":\n",
        "            down.append(round(df[mask][j].mean(), 2))\n",
        "        if j == \"Upload\":\n",
        "            up.append(round(df[mask][j].mean(), 2))\n",
        "        if j == \"Packet Loss\":\n",
        "            pack.append(round(df[mask][j].mean(), 2))\n",
        "print(\"Latency List: \", Lat, len(Lat), \"\\nJitter List: \", jit, len(jit),\n",
        "      \"\\nDownload List: \", down, len(down))\n",
        "print(\"Upload List: \", up, len(up), \"\\nPacket Loss: \", pack, len(Lat))"
      ],
      "execution_count": null,
      "outputs": [
        {
          "output_type": "stream",
          "text": [
            "Latency List:  [46.96, 44.73, 45.66, 45.9, 46.04, 48.5, 45.16, 47.5, 44.8, 65.38, 59.02, 62.81, 56.9, 59.09, 53.41, 58.61, 50.99, 56.52, 57.94, 58.69, 59.57, 56.47, 58.49, 48.02] 24 \n",
            "Jitter List:  [20.73, 21.57, 21.35, 21.22, 18.79, 20.71, 21.43, 21.3, 27.01, 22.93, 23.95, 26.98, 21.81, 25.01, 18.29, 22.4, 19.83, 23.16, 18.87, 19.9, 23.62, 19.14, 19.07, 27.33] 24 \n",
            "Download List:  [9.16, 12.67, 16.49, 18.22, 19.4, 17.68, 12.91, 10.7, 8.21, 6.72, 6.22, 5.54, 5.69, 5.0, 5.47, 6.2, 5.99, 5.96, 5.59, 4.31, 4.97, 4.26, 3.6, 4.63] 24\n",
            "Upload List:  [3.97, 4.44, 4.93, 4.88, 4.65, 3.76, 3.89, 3.28, 2.8, 2.06, 1.67, 1.78, 1.99, 1.95, 1.77, 1.82, 2.13, 1.94, 1.7, 1.71, 1.47, 1.49, 1.75, 2.97] 24 \n",
            "Packet Loss:  [0.25, 0.44, 0.43, 0.63, 0.41, 0.51, 0.07, 1.3, 0.12, 0.61, 0.39, 0.47, 0.93, 0.49, 0.23, 0.6, 0.35, 0.44, 0.74, 0.68, 0.62, 0.81, 0.32, 0.12] 24\n"
          ],
          "name": "stdout"
        }
      ]
    },
    {
      "cell_type": "code",
      "metadata": {
        "id": "15DQaBQSbZFt",
        "colab": {
          "base_uri": "https://localhost:8080/",
          "height": 313
        },
        "outputId": "ecbf0c31-66f8-4e05-ebed-94a9f1c55890"
      },
      "source": [
        "# best and worst hour in terms of average latency\n",
        "latency = pd.DataFrame({'hour': hour, 'Latency per hour': Lat})\n",
        "Latency = latency.plot(x='hour', y='Latency per hour')\n",
        "x = min(Lat)\n",
        "index = Lat.index(x)\n",
        "print(\"Best Latency per hour in a day is: \", hour[index], x)\n",
        "y = max(Lat)\n",
        "index = Lat.index(y)\n",
        "print(\"Worst Latency per hour in a day is: \", hour[index], y)"
      ],
      "execution_count": null,
      "outputs": [
        {
          "output_type": "stream",
          "text": [
            "Best Latency per hour in a day is:  01 44.73\n",
            "Worst Latency per hour in a day is:  09 65.38\n"
          ],
          "name": "stdout"
        },
        {
          "output_type": "display_data",
          "data": {
            "image/png": "[encoded data removed]",
            "text/plain": [
              "<Figure size 432x288 with 1 Axes>"
            ]
          },
          "metadata": {
            "needs_background": "light"
          }
        }
      ]
    },
    {
      "cell_type": "code",
      "metadata": {
        "id": "QIMW3w0bbfaQ",
        "colab": {
          "base_uri": "https://localhost:8080/",
          "height": 313
        },
        "outputId": "295e8693-294b-4ff7-f090-075c02a4b452"
      },
      "source": [
        "# best and worst hour in terms of average jitter\n",
        "jitter = pd.DataFrame({'hour': hour, 'Jitter per hour': jit})\n",
        "Jitter = jitter.plot(x='hour', y='Jitter per hour')\n",
        "x = min(jit)\n",
        "index = jit.index(x)\n",
        "print(\"Best Jitter per hour in a day is: \", hour[index], x)\n",
        "y = max(jit)\n",
        "index = jit.index(y)\n",
        "print(\"Worst Jitter per hour in a day is: \", hour[index], y)"
      ],
      "execution_count": null,
      "outputs": [
        {
          "output_type": "stream",
          "text": [
            "Best Jitter per hour in a day is:  14 18.29\n",
            "Worst Jitter per hour in a day is:  23 27.33\n"
          ],
          "name": "stdout"
        },
        {
          "output_type": "display_data",
          "data": {
            "image/png": "[encoded data removed]",
            "text/plain": [
              "<Figure size 432x288 with 1 Axes>"
            ]
          },
          "metadata": {
            "needs_background": "light"
          }
        }
      ]
    },
    {
      "cell_type": "code",
      "metadata": {
        "id": "7WqZ1ePMbjqV",
        "colab": {
          "base_uri": "https://localhost:8080/",
          "height": 314
        },
        "outputId": "3b4bdafa-52dd-44e8-e4dc-7e3d4f679eeb"
      },
      "source": [
        "# best and worst hour in terms of average download\n",
        "download = pd.DataFrame({'hour': hour, 'Download per hour': down})\n",
        "Download = download.plot(x='hour', y='Download per hour')\n",
        "x = max(down)\n",
        "index = down.index(x)\n",
        "print(\"Best Download per hour in a day is: \", hour[index], x)\n",
        "y = min(down)\n",
        "index = down.index(y)\n",
        "print(\"Worst Download per hour in a day is: \", hour[index], y)"
      ],
      "execution_count": null,
      "outputs": [
        {
          "output_type": "stream",
          "text": [
            "Best Download per hour in a day is:  04 19.4\n",
            "Worst Download per hour in a day is:  22 3.6\n"
          ],
          "name": "stdout"
        },
        {
          "output_type": "display_data",
          "data": {
            "image/png": "[encoded data removed]",
            "text/plain": [
              "<Figure size 432x288 with 1 Axes>"
            ]
          },
          "metadata": {
            "needs_background": "light"
          }
        }
      ]
    },
    {
      "cell_type": "code",
      "metadata": {
        "id": "hnAq4rwqbmqa",
        "colab": {
          "base_uri": "https://localhost:8080/",
          "height": 313
        },
        "outputId": "bd60f1c1-503f-41a4-f442-1feacdd5328d"
      },
      "source": [
        "# best and worst hour in terms of average upload\n",
        "upload = pd.DataFrame({'hour': hour, 'Upload per hour': up})\n",
        "Upload = upload.plot(x='hour', y='Upload per hour')\n",
        "x = max(up)\n",
        "index = up.index(x)\n",
        "print(\"Best Upload per hour in a day is: \", hour[index], x)\n",
        "y = min(up)\n",
        "index = up.index(y)\n",
        "print(\"Worst Upload per hour in a day is: \", hour[index], y)"
      ],
      "execution_count": null,
      "outputs": [
        {
          "output_type": "stream",
          "text": [
            "Best Upload per hour in a day is:  02 4.93\n",
            "Worst Upload per hour in a day is:  20 1.47\n"
          ],
          "name": "stdout"
        },
        {
          "output_type": "display_data",
          "data": {
            "image/png": "[encoded data removed]",
            "text/plain": [
              "<Figure size 432x288 with 1 Axes>"
            ]
          },
          "metadata": {
            "needs_background": "light"
          }
        }
      ]
    },
    {
      "cell_type": "code",
      "metadata": {
        "id": "n00gmiDibqRL",
        "colab": {
          "base_uri": "https://localhost:8080/",
          "height": 313
        },
        "outputId": "a0953695-dfc4-4b09-c1bb-62af114345d1"
      },
      "source": [
        "# best and worst hour in terms of average packet loss\n",
        "packet_loss = pd.DataFrame({'hour': hour, 'Packet Loss per hour': pack})\n",
        "Packet_Loss = packet_loss.plot(x='hour', y='Packet Loss per hour')\n",
        "x = max(pack)\n",
        "index = pack.index(x)\n",
        "print(\"Best Packet Loss per hour in a day is: \", hour[index], x)\n",
        "y = min(pack)\n",
        "index = pack.index(y)\n",
        "print(\"Worst Packet Loss per hour in a day is: \", hour[index], y)"
      ],
      "execution_count": null,
      "outputs": [
        {
          "output_type": "stream",
          "text": [
            "Best Packet Loss per hour in a day is:  07 1.3\n",
            "Worst Packet Loss per hour in a day is:  06 0.07\n"
          ],
          "name": "stdout"
        },
        {
          "output_type": "display_data",
          "data": {
            "image/png": "[encoded data removed]",
            "text/plain": [
              "<Figure size 432x288 with 1 Axes>"
            ]
          },
          "metadata": {
            "needs_background": "light"
          }
        }
      ]
    },
    {
      "cell_type": "code",
      "metadata": {
        "id": "d3onsB4Da058",
        "colab": {
          "base_uri": "https://localhost:8080/"
        },
        "outputId": "c85851f1-05fe-4a6b-93e1-b321239d41e2"
      },
      "source": [
        "# Creating a dictionary to find the most and least network outages\n",
        "# Initizing the diction dictionary with hours as keys and all values as zeroes\n",
        "dictiona = {}\n",
        "for i in hour:\n",
        "    dictiona[i] = 0\n",
        "for keys, items in d.items():\n",
        "    if len(items) == 3:\n",
        "        COUNT = dictiona[items['hours']]\n",
        "        dictiona[items['hours']] = COUNT + 1\n",
        "print(dictiona)"
      ],
      "execution_count": null,
      "outputs": [
        {
          "output_type": "stream",
          "text": [
            "{'00': 0, '01': 0, '02': 0, '03': 14, '04': 104, '05': 120, '06': 121, '07': 120, '08': 127, '09': 36, '10': 2, '11': 0, '12': 1, '13': 4, '14': 25, '15': 1, '16': 0, '17': 1, '18': 0, '19': 1, '20': 0, '21': 2, '22': 1, '23': 0}\n"
          ],
          "name": "stdout"
        }
      ]
    },
    {
      "cell_type": "code",
      "metadata": {
        "id": "SpJy-Wsoa6mI",
        "colab": {
          "base_uri": "https://localhost:8080/",
          "height": 430
        },
        "outputId": "41fa3cec-e203-4069-afa4-9b3584af9120"
      },
      "source": [
        "# Using the above created dictionary to find the most and least network outages\n",
        "keys = list(dictiona.keys())\n",
        "values = list(dictiona.values())\n",
        "x = max(values)\n",
        "index = values.index(x)\n",
        "print(\"most network outages is\", x, \"happened in:\", keys[index], \"hour\")\n",
        "x = min(values)\n",
        "for idx, val in enumerate(values):\n",
        "    if val == x:\n",
        "        print(\"Least networt outage is\", x, \"happened in:\", keys[idx], \"hour\")\n",
        "outages = pd.DataFrame({'hour': keys, 'network outage in this hour': values})\n",
        "Outage = outages.plot(x='hour', y='network outage in this hour')"
      ],
      "execution_count": null,
      "outputs": [
        {
          "output_type": "stream",
          "text": [
            "most network outages is 127 happened in: 08 hour\n",
            "Least networt outage is 0 happened in: 00 hour\n",
            "Least networt outage is 0 happened in: 01 hour\n",
            "Least networt outage is 0 happened in: 02 hour\n",
            "Least networt outage is 0 happened in: 11 hour\n",
            "Least networt outage is 0 happened in: 16 hour\n",
            "Least networt outage is 0 happened in: 18 hour\n",
            "Least networt outage is 0 happened in: 20 hour\n",
            "Least networt outage is 0 happened in: 23 hour\n"
          ],
          "name": "stdout"
        },
        {
          "output_type": "display_data",
          "data": {
            "image/png": "[encoded data removed]",
            "text/plain": [
              "<Figure size 432x288 with 1 Axes>"
            ]
          },
          "metadata": {
            "needs_background": "light"
          }
        }
      ]
    },
    {
      "cell_type": "markdown",
      "metadata": {
        "id": "TmM3WKznbv0Q"
      },
      "source": [
        "#Overall Analysis"
      ]
    },
    {
      "cell_type": "code",
      "metadata": {
        "id": "UEmxoaElHDJA",
        "colab": {
          "base_uri": "https://localhost:8080/",
          "height": 447
        },
        "outputId": "19d692b8-e362-4f98-9127-2d57365150e9"
      },
      "source": [
        "df[['Latency', 'Jitter', 'Download', 'Upload', 'Packet Loss']] = \\\n",
        "    df[['Latency', 'Jitter', 'Download', 'Upload', 'Packet Loss']].fillna(np.nan)\n",
        "x = df.groupby(['day', 'hours']).agg('mean')\n",
        "pd.DataFrame(x)"
      ],
      "execution_count": null,
      "outputs": [
        {
          "output_type": "execute_result",
          "data": {
            "text/html": [
              "<div>\n",
              "<style scoped>\n",
              "    .dataframe tbody tr th:only-of-type {\n",
              "        vertical-align: middle;\n",
              "    }\n",
              "\n",
              "    .dataframe tbody tr th {\n",
              "        vertical-align: top;\n",
              "    }\n",
              "\n",
              "    .dataframe thead th {\n",
              "        text-align: right;\n",
              "    }\n",
              "</style>\n",
              "<table border=\"1\" class=\"dataframe\">\n",
              "  <thead>\n",
              "    <tr style=\"text-align: right;\">\n",
              "      <th></th>\n",
              "      <th></th>\n",
              "      <th>Latency</th>\n",
              "      <th>Jitter</th>\n",
              "      <th>Download</th>\n",
              "      <th>Upload</th>\n",
              "      <th>Packet Loss</th>\n",
              "    </tr>\n",
              "    <tr>\n",
              "      <th>day</th>\n",
              "      <th>hours</th>\n",
              "      <th></th>\n",
              "      <th></th>\n",
              "      <th></th>\n",
              "      <th></th>\n",
              "      <th></th>\n",
              "    </tr>\n",
              "  </thead>\n",
              "  <tbody>\n",
              "    <tr>\n",
              "      <th rowspan=\"5\" valign=\"top\">Fri</th>\n",
              "      <th>00</th>\n",
              "      <td>57.832333</td>\n",
              "      <td>15.937667</td>\n",
              "      <td>12.250714</td>\n",
              "      <td>3.857500</td>\n",
              "      <td>0.506667</td>\n",
              "    </tr>\n",
              "    <tr>\n",
              "      <th>01</th>\n",
              "      <td>48.152000</td>\n",
              "      <td>21.561667</td>\n",
              "      <td>10.911000</td>\n",
              "      <td>4.342667</td>\n",
              "      <td>0.086667</td>\n",
              "    </tr>\n",
              "    <tr>\n",
              "      <th>02</th>\n",
              "      <td>41.382000</td>\n",
              "      <td>21.915667</td>\n",
              "      <td>18.046000</td>\n",
              "      <td>5.303667</td>\n",
              "      <td>0.580000</td>\n",
              "    </tr>\n",
              "    <tr>\n",
              "      <th>03</th>\n",
              "      <td>45.619000</td>\n",
              "      <td>24.510667</td>\n",
              "      <td>13.720000</td>\n",
              "      <td>5.198333</td>\n",
              "      <td>1.072727</td>\n",
              "    </tr>\n",
              "    <tr>\n",
              "      <th>04</th>\n",
              "      <td>43.731071</td>\n",
              "      <td>22.507500</td>\n",
              "      <td>18.961923</td>\n",
              "      <td>5.524615</td>\n",
              "      <td>0.366667</td>\n",
              "    </tr>\n",
              "    <tr>\n",
              "      <th>...</th>\n",
              "      <th>...</th>\n",
              "      <td>...</td>\n",
              "      <td>...</td>\n",
              "      <td>...</td>\n",
              "      <td>...</td>\n",
              "      <td>...</td>\n",
              "    </tr>\n",
              "    <tr>\n",
              "      <th rowspan=\"5\" valign=\"top\">Wed</th>\n",
              "      <th>19</th>\n",
              "      <td>48.643462</td>\n",
              "      <td>20.671154</td>\n",
              "      <td>5.242692</td>\n",
              "      <td>1.780385</td>\n",
              "      <td>0.300000</td>\n",
              "    </tr>\n",
              "    <tr>\n",
              "      <th>20</th>\n",
              "      <td>58.528571</td>\n",
              "      <td>30.975000</td>\n",
              "      <td>3.510000</td>\n",
              "      <td>0.775357</td>\n",
              "      <td>1.183333</td>\n",
              "    </tr>\n",
              "    <tr>\n",
              "      <th>21</th>\n",
              "      <td>67.438667</td>\n",
              "      <td>31.541000</td>\n",
              "      <td>2.661333</td>\n",
              "      <td>0.943667</td>\n",
              "      <td>1.328571</td>\n",
              "    </tr>\n",
              "    <tr>\n",
              "      <th>22</th>\n",
              "      <td>63.955333</td>\n",
              "      <td>14.920333</td>\n",
              "      <td>2.012667</td>\n",
              "      <td>1.231333</td>\n",
              "      <td>0.413333</td>\n",
              "    </tr>\n",
              "    <tr>\n",
              "      <th>23</th>\n",
              "      <td>42.376333</td>\n",
              "      <td>26.118667</td>\n",
              "      <td>4.150333</td>\n",
              "      <td>2.487667</td>\n",
              "      <td>0.127273</td>\n",
              "    </tr>\n",
              "  </tbody>\n",
              "</table>\n",
              "<p>164 rows × 5 columns</p>\n",
              "</div>"
            ],
            "text/plain": [
              "             Latency     Jitter   Download    Upload  Packet Loss\n",
              "day hours                                                        \n",
              "Fri 00     57.832333  15.937667  12.250714  3.857500     0.506667\n",
              "    01     48.152000  21.561667  10.911000  4.342667     0.086667\n",
              "    02     41.382000  21.915667  18.046000  5.303667     0.580000\n",
              "    03     45.619000  24.510667  13.720000  5.198333     1.072727\n",
              "    04     43.731071  22.507500  18.961923  5.524615     0.366667\n",
              "...              ...        ...        ...       ...          ...\n",
              "Wed 19     48.643462  20.671154   5.242692  1.780385     0.300000\n",
              "    20     58.528571  30.975000   3.510000  0.775357     1.183333\n",
              "    21     67.438667  31.541000   2.661333  0.943667     1.328571\n",
              "    22     63.955333  14.920333   2.012667  1.231333     0.413333\n",
              "    23     42.376333  26.118667   4.150333  2.487667     0.127273\n",
              "\n",
              "[164 rows x 5 columns]"
            ]
          },
          "metadata": {},
          "execution_count": 28
        }
      ]
    },
    {
      "cell_type": "code",
      "metadata": {
        "id": "BwUoyn0sQ3rc",
        "colab": {
          "base_uri": "https://localhost:8080/",
          "height": 326
        },
        "outputId": "64ed7fbb-72b0-4421-bdf7-4b9ce8219601"
      },
      "source": [
        "# To find the best time for downloads, uploads\n",
        "overall = x.groupby('day').agg(['idxmin', 'idxmax'])\n",
        "attributes = ['Latency', 'Jitter', 'Download', 'Upload', 'Packet Loss']\n",
        "for day in dictionary:\n",
        "    for attr in attributes:\n",
        "        overall.loc[day, (attr, 'idxmin')] = \\\n",
        "            str(overall.loc[day, (attr, 'idxmin')][1]) + ':00'\n",
        "        locat = str(overall.loc[day, (attr, 'idxmax')][1])\n",
        "        overall.loc[day, (attr, 'idxmax')] = locat + ':00'\n",
        "pd.DataFrame(overall)"
      ],
      "execution_count": null,
      "outputs": [
        {
          "output_type": "execute_result",
          "data": {
            "text/html": [
              "<div>\n",
              "<style scoped>\n",
              "    .dataframe tbody tr th:only-of-type {\n",
              "        vertical-align: middle;\n",
              "    }\n",
              "\n",
              "    .dataframe tbody tr th {\n",
              "        vertical-align: top;\n",
              "    }\n",
              "\n",
              "    .dataframe thead tr th {\n",
              "        text-align: left;\n",
              "    }\n",
              "\n",
              "    .dataframe thead tr:last-of-type th {\n",
              "        text-align: right;\n",
              "    }\n",
              "</style>\n",
              "<table border=\"1\" class=\"dataframe\">\n",
              "  <thead>\n",
              "    <tr>\n",
              "      <th></th>\n",
              "      <th colspan=\"2\" halign=\"left\">Latency</th>\n",
              "      <th colspan=\"2\" halign=\"left\">Jitter</th>\n",
              "      <th colspan=\"2\" halign=\"left\">Download</th>\n",
              "      <th colspan=\"2\" halign=\"left\">Upload</th>\n",
              "      <th colspan=\"2\" halign=\"left\">Packet Loss</th>\n",
              "    </tr>\n",
              "    <tr>\n",
              "      <th></th>\n",
              "      <th>idxmin</th>\n",
              "      <th>idxmax</th>\n",
              "      <th>idxmin</th>\n",
              "      <th>idxmax</th>\n",
              "      <th>idxmin</th>\n",
              "      <th>idxmax</th>\n",
              "      <th>idxmin</th>\n",
              "      <th>idxmax</th>\n",
              "      <th>idxmin</th>\n",
              "      <th>idxmax</th>\n",
              "    </tr>\n",
              "    <tr>\n",
              "      <th>day</th>\n",
              "      <th></th>\n",
              "      <th></th>\n",
              "      <th></th>\n",
              "      <th></th>\n",
              "      <th></th>\n",
              "      <th></th>\n",
              "      <th></th>\n",
              "      <th></th>\n",
              "      <th></th>\n",
              "      <th></th>\n",
              "    </tr>\n",
              "  </thead>\n",
              "  <tbody>\n",
              "    <tr>\n",
              "      <th>Fri</th>\n",
              "      <td>02:00</td>\n",
              "      <td>11:00</td>\n",
              "      <td>13:00</td>\n",
              "      <td>11:00</td>\n",
              "      <td>23:00</td>\n",
              "      <td>04:00</td>\n",
              "      <td>19:00</td>\n",
              "      <td>04:00</td>\n",
              "      <td>18:00</td>\n",
              "      <td>12:00</td>\n",
              "    </tr>\n",
              "    <tr>\n",
              "      <th>Mon</th>\n",
              "      <td>00:00</td>\n",
              "      <td>11:00</td>\n",
              "      <td>04:00</td>\n",
              "      <td>23:00</td>\n",
              "      <td>22:00</td>\n",
              "      <td>04:00</td>\n",
              "      <td>09:00</td>\n",
              "      <td>02:00</td>\n",
              "      <td>19:00</td>\n",
              "      <td>13:00</td>\n",
              "    </tr>\n",
              "    <tr>\n",
              "      <th>Sat</th>\n",
              "      <td>02:00</td>\n",
              "      <td>09:00</td>\n",
              "      <td>20:00</td>\n",
              "      <td>09:00</td>\n",
              "      <td>20:00</td>\n",
              "      <td>03:00</td>\n",
              "      <td>11:00</td>\n",
              "      <td>03:00</td>\n",
              "      <td>17:00</td>\n",
              "      <td>15:00</td>\n",
              "    </tr>\n",
              "    <tr>\n",
              "      <th>Sun</th>\n",
              "      <td>10:00</td>\n",
              "      <td>20:00</td>\n",
              "      <td>15:00</td>\n",
              "      <td>13:00</td>\n",
              "      <td>14:00</td>\n",
              "      <td>04:00</td>\n",
              "      <td>14:00</td>\n",
              "      <td>05:00</td>\n",
              "      <td>10:00</td>\n",
              "      <td>19:00</td>\n",
              "    </tr>\n",
              "    <tr>\n",
              "      <th>Thu</th>\n",
              "      <td>02:00</td>\n",
              "      <td>22:00</td>\n",
              "      <td>21:00</td>\n",
              "      <td>17:00</td>\n",
              "      <td>21:00</td>\n",
              "      <td>03:00</td>\n",
              "      <td>21:00</td>\n",
              "      <td>03:00</td>\n",
              "      <td>01:00</td>\n",
              "      <td>18:00</td>\n",
              "    </tr>\n",
              "    <tr>\n",
              "      <th>Tue</th>\n",
              "      <td>03:00</td>\n",
              "      <td>10:00</td>\n",
              "      <td>16:00</td>\n",
              "      <td>17:00</td>\n",
              "      <td>22:00</td>\n",
              "      <td>02:00</td>\n",
              "      <td>21:00</td>\n",
              "      <td>02:00</td>\n",
              "      <td>23:00</td>\n",
              "      <td>01:00</td>\n",
              "    </tr>\n",
              "    <tr>\n",
              "      <th>Wed</th>\n",
              "      <td>03:00</td>\n",
              "      <td>08:00</td>\n",
              "      <td>22:00</td>\n",
              "      <td>08:00</td>\n",
              "      <td>22:00</td>\n",
              "      <td>03:00</td>\n",
              "      <td>20:00</td>\n",
              "      <td>03:00</td>\n",
              "      <td>00:00</td>\n",
              "      <td>18:00</td>\n",
              "    </tr>\n",
              "  </tbody>\n",
              "</table>\n",
              "</div>"
            ],
            "text/plain": [
              "    Latency        Jitter         ... Upload        Packet Loss       \n",
              "     idxmin idxmax idxmin idxmax  ... idxmin idxmax      idxmin idxmax\n",
              "day                               ...                                 \n",
              "Fri   02:00  11:00  13:00  11:00  ...  19:00  04:00       18:00  12:00\n",
              "Mon   00:00  11:00  04:00  23:00  ...  09:00  02:00       19:00  13:00\n",
              "Sat   02:00  09:00  20:00  09:00  ...  11:00  03:00       17:00  15:00\n",
              "Sun   10:00  20:00  15:00  13:00  ...  14:00  05:00       10:00  19:00\n",
              "Thu   02:00  22:00  21:00  17:00  ...  21:00  03:00       01:00  18:00\n",
              "Tue   03:00  10:00  16:00  17:00  ...  21:00  02:00       23:00  01:00\n",
              "Wed   03:00  08:00  22:00  08:00  ...  20:00  03:00       00:00  18:00\n",
              "\n",
              "[7 rows x 10 columns]"
            ]
          },
          "metadata": {},
          "execution_count": 29
        }
      ]
    },
    {
      "cell_type": "code",
      "metadata": {
        "id": "txKJJC_RS6TU",
        "colab": {
          "base_uri": "https://localhost:8080/"
        },
        "outputId": "1228f0f5-689b-4e8a-e7d8-a1a73d79ef3b"
      },
      "source": [
        "# To find best hour and time for low latency activities\n",
        "pd.DataFrame({'Minimum at': x.idxmin(), 'Maximum at': x.idxmax()})\n",
        "dataFrame = pd.DataFrame({'Minimum at': x.idxmin(), 'Maximum at': x.idxmax()})\n",
        "print(\"Best day and hour for low latency activities is: \",\n",
        "      dataFrame.loc['Latency']['Minimum at'][0],\n",
        "      dataFrame.loc['Latency']['Minimum at'][1])"
      ],
      "execution_count": null,
      "outputs": [
        {
          "output_type": "stream",
          "text": [
            "Best day and hour for low latency activities is:  Thu 02\n"
          ],
          "name": "stdout"
        }
      ]
    },
    {
      "cell_type": "code",
      "metadata": {
        "id": "zMrIKMhihpWo",
        "colab": {
          "base_uri": "https://localhost:8080/"
        },
        "outputId": "019e383d-bd3e-4975-a5f8-693e5d9e98f7"
      },
      "source": [
        "# To find the most connected Server\n",
        "df['Server'].value_counts()\n",
        "# x = list(df['Server'])\n",
        "# de = {}\n",
        "# for i in x:\n",
        "#     COUNT = 0\n",
        "#     if i in de:\n",
        "#         COUNT = de[i]\n",
        "#         de[i] = COUNT + 1\n",
        "#     elif i != 'nan':\n",
        "#         de[i] = COUNT + 1\n",
        "# print(\"Connected Servers List: \", de)\n",
        "# keys = list(de.keys())\n",
        "# values = list(de.values())\n",
        "# v = values.index(max(values))\n",
        "# b = keys[v]\n",
        "# print(\"\\nThe most connected server is: \", b,\n",
        "#       \"\\nNumber of times it connected: \", max(values))"
      ],
      "execution_count": null,
      "outputs": [
        {
          "output_type": "execute_result",
          "data": {
            "text/plain": [
              "Airtel Broadband - Chennai                           697\n",
              "Airconnect Fibernet - Chennai                        563\n",
              "Airgenie - Chennai                                   510\n",
              "TataSky Broadband Private Limited - Chennai          406\n",
              "Shyam Spectra - Chennai                              399\n",
              "ACT Fibernet - Chennai                               399\n",
              "Sri Vari Network Private Limited - Chennai           391\n",
              "Cherrinet - K Net Solutions Pvt Ltd - Chennai        375\n",
              "Jio - Chennai                                        329\n",
              "Pulse Telesystems - Chennai                           41\n",
              "Vi India - Chennai                                    34\n",
              "Arjuntelecom - Chennai                                25\n",
              "TATASky Broadband Pvt Ltd - Bangalore                  4\n",
              "JIFFY CABLE AND DATACOM - Bangalore                    3\n",
              "Surround Networks Pvt Ltd. - Bengaluru                 3\n",
              "Airtel Broadband - Bangalore                           2\n",
              "North East Dataa Network Pvt Ltd - Bangalore           2\n",
              "I-ON - Bengaluru                                       2\n",
              "ACT Fibernet - Bangalore                               1\n",
              "TelexAir Telecom Pvt Ltd - Bangalore                   1\n",
              "Alliance Broadband Services Pvt. Ltd. - Bengaluru      1\n",
              "Vi India - Benguluru                                   1\n",
              "Name: Server, dtype: int64"
            ]
          },
          "metadata": {},
          "execution_count": 31
        }
      ]
    }
  ]
}